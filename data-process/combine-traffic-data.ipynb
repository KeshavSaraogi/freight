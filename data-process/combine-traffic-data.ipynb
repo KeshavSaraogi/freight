{
 "cells": [
  {
   "cell_type": "code",
   "execution_count": 1,
   "metadata": {},
   "outputs": [],
   "source": [
    "import os\n",
    "import pandas as pd\n",
    "\n",
    "output_dir = \"/Users/keshavsaraogi/Desktop/freight\"\n",
    "data_dir = \"/path/to/dataset/folder\"\n",
    "os.makedirs(output_dir, exist_ok=True)\n"
   ]
  },
  {
   "cell_type": "code",
   "execution_count": 2,
   "metadata": {},
   "outputs": [],
   "source": [
    "\n",
    "def load_traffic_data(street_prefix):\n",
    "    \"\"\"\n",
    "    Combines all traffic CSV files for a given street prefix.\n",
    "    :param street_prefix: Prefix of the street files (e.g., \"And\", \"Bel\", \"Bxl\").\n",
    "    :return: Combined DataFrame with traffic data.\n",
    "    \"\"\"\n",
    "    files = [f for f in os.listdir(data_dir) if f.startswith(street_prefix) and f.endswith('.csv')]\n",
    "    dfs = []\n",
    "    for file in files:\n",
    "        file_path = os.path.join(data_dir, file)\n",
    "        print(f\"Loading {file_path}...\")\n",
    "        df = pd.read_csv(file_path)\n",
    "        dfs.append(df)\n",
    "    combined_df = pd.concat(dfs, ignore_index=True)\n",
    "    return combined_df\n",
    "\n",
    "traffic_data_and = load_traffic_data(\"And\")\n",
    "\n",
    "def save_to_parquet(dataframe, output_file):\n",
    "    \"\"\"\n",
    "    Save a DataFrame to a Parquet file.\n",
    "    :param dataframe: pandas DataFrame to save\n",
    "    :param output_file: Output file path for the Parquet file\n",
    "    \"\"\"\n",
    "    try:\n",
    "        dataframe.to_parquet(output_file, engine=\"pyarrow\", index=False)\n",
    "        print(f\"Data successfully saved to {output_file}\")\n",
    "    except Exception as e:\n",
    "        print(f\"Error saving to Parquet: {e}\")\n",
    "\n",
    "output_file = os.path.join(output_dir, \"traffic_data_and.parquet\")\n",
    "save_to_parquet(traffic_data_and, output_file)\n"
   ]
  }
 ],
 "metadata": {
  "kernelspec": {
   "display_name": "base",
   "language": "python",
   "name": "python3"
  },
  "language_info": {
   "codemirror_mode": {
    "name": "ipython",
    "version": 3
   },
   "file_extension": ".py",
   "mimetype": "text/x-python",
   "name": "python",
   "nbconvert_exporter": "python",
   "pygments_lexer": "ipython3",
   "version": "3.11.8"
  }
 },
 "nbformat": 4,
 "nbformat_minor": 2
}

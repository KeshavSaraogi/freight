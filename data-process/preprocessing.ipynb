{
 "cells": [
  {
   "cell_type": "code",
   "execution_count": null,
   "metadata": {},
   "outputs": [],
   "source": [
    "# Temporal analysis: Traffic volume by hour\n",
    "enriched_data['hour'] = enriched_data['timestamp'].dt.hour\n",
    "hourly_traffic = enriched_data.groupby('hour')['traffic_volume'].mean()\n",
    "\n",
    "# Plot hourly traffic trends\n",
    "import matplotlib.pyplot as plt\n",
    "hourly_traffic.plot(kind='bar', figsize=(10, 6))\n",
    "plt.title(\"Average Traffic Volume by Hour\")\n",
    "plt.xlabel(\"Hour\")\n",
    "plt.ylabel(\"Traffic Volume\")\n",
    "plt.show()\n"
   ]
  }
 ],
 "metadata": {
  "language_info": {
   "name": "python"
  }
 },
 "nbformat": 4,
 "nbformat_minor": 2
}

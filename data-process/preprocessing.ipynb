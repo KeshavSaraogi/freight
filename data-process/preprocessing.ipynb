{
 "cells": [
  {
   "cell_type": "code",
   "execution_count": null,
   "metadata": {},
   "outputs": [],
   "source": [
    "# Temporal analysis: Traffic volume by hour\n",
    "enriched_data['hour'] = enriched_data['timestamp'].dt.hour\n",
    "hourly_traffic = enriched_data.groupby('hour')['traffic_volume'].mean()\n",
    "\n",
    "# Plot hourly traffic trends\n",
    "import matplotlib.pyplot as plt\n",
    "hourly_traffic.plot(kind='bar', figsize=(10, 6))\n",
    "plt.title(\"Average Traffic Volume by Hour\")\n",
    "plt.xlabel(\"Hour\")\n",
    "plt.ylabel(\"Traffic Volume\")\n",
    "plt.show()\n"
   ]
  },
  {
   "cell_type": "code",
   "execution_count": null,
   "metadata": {},
   "outputs": [],
   "source": [
    "import folium\n",
    "\n",
    "# Create a map\n",
    "m = folium.Map(location=[50.8503, 4.3517], zoom_start=12)  # Example coordinates for Brussels\n",
    "\n",
    "# Add traffic points to the map\n",
    "for _, row in enriched_data.iterrows():\n",
    "    folium.CircleMarker(\n",
    "        location=[row['latitude'], row['longitude']],\n",
    "        radius=5,\n",
    "        color=\"red\",\n",
    "        fill=True,\n",
    "        fill_opacity=0.7,\n",
    "        tooltip=f\"Traffic Volume: {row['traffic_volume']}\"\n",
    "    ).add_to(m)\n",
    "\n",
    "# Save the map to an HTML file\n",
    "m.save(\"/path/to/output/traffic_map.html\")\n"
   ]
  },
  {
   "cell_type": "code",
   "execution_count": null,
   "metadata": {},
   "outputs": [],
   "source": [
    "import seaborn as sns\n",
    "\n",
    "# Traffic volume by day of the week\n",
    "enriched_data['day_of_week'] = enriched_data['timestamp'].dt.day_name()\n",
    "sns.boxplot(x='day_of_week', y='traffic_volume', data=enriched_data)\n",
    "plt.title(\"Traffic Volume by Day of the Week\")\n",
    "plt.show()\n"
   ]
  }
 ],
 "metadata": {
  "language_info": {
   "name": "python"
  }
 },
 "nbformat": 4,
 "nbformat_minor": 2
}

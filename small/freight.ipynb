{
 "cells": [
  {
   "cell_type": "code",
   "execution_count": null,
   "metadata": {},
   "outputs": [],
   "source": [
    "# Step 1: Import Required Libraries\n",
    "\n",
    "import pandas as pd\n",
    "from sklearn.model_selection import train_test_split\n",
    "from sklearn.preprocessing import LabelEncoder, StandardScaler\n",
    "from sklearn.linear_model import LogisticRegression\n",
    "from sklearn.metrics import accuracy_score"
   ]
  },
  {
   "cell_type": "code",
   "execution_count": null,
   "metadata": {},
   "outputs": [],
   "source": [
    "# Step 2: Read the Contents of the File\n",
    "\n",
    "file_path = '/Users/keshavsaraogi/Desktop/freight/And_05min_1303_0606_2021.csv'\n",
    "df = pd.read_csv(file_path)\n",
    "\n",
    "print(df.info())\n",
    "print(df.head())\n",
    "print(df.describe())\n",
    "print(df.isnull().sum())\n",
    "print(df.columns)"
   ]
  },
  {
   "cell_type": "code",
   "execution_count": null,
   "metadata": {},
   "outputs": [],
   "source": [
    "# Step 3: Rename and clean columns\n",
    "df.rename(columns={'2021-04-15 07:25:00': 'timestamp'}, inplace=True)\n",
    "df['timestamp'] = pd.to_datetime(df['timestamp'])\n",
    "\n",
    "df.rename(columns={'148.0': 'traffic_volume', '1': 'station_id', '33.0': 'traffic_speed'}, inplace=True)\n",
    "print(df.columns)"
   ]
  },
  {
   "cell_type": "code",
   "execution_count": null,
   "metadata": {},
   "outputs": [],
   "source": [
    "# Step 4: Feature Engineering - Extract temporal features from 'timestamp'\n",
    "df['hour'] = df['timestamp'].dt.hour\n",
    "df['dayofweek'] = df['timestamp'].dt.dayofweek\n",
    "df['month'] = df['timestamp'].dt.month\n",
    "df['year'] = df['timestamp'].dt.year"
   ]
  },
  {
   "cell_type": "code",
   "execution_count": null,
   "metadata": {},
   "outputs": [],
   "source": [
    "# Step 5: Rolling features\n",
    "df['traffic_volume_rolling'] = df['traffic_volume'].rolling(window=5).mean()\n",
    "\n",
    "# Step 6: Create lag features\n",
    "df['traffic_volume_lag_1'] = df['traffic_volume'].shift(1)\n",
    "df['traffic_volume_lag_2'] = df['traffic_volume'].shift(2)\n",
    "\n",
    "# Drop any rows with NaN values\n",
    "df.dropna(inplace=True)\n"
   ]
  },
  {
   "cell_type": "code",
   "execution_count": null,
   "metadata": {},
   "outputs": [],
   "source": [
    "# Step 7: Define traffic condition based on traffic volume\n",
    "df['traffic_condition'] = pd.cut(df['traffic_volume'], bins=[0, 500, 1000, 2000, 3000], labels=['Low', 'Medium', 'High', 'Very High'])"
   ]
  },
  {
   "cell_type": "code",
   "execution_count": null,
   "metadata": {},
   "outputs": [],
   "source": [
    "\n",
    "# Step 8: Define 'time_of_day' based on the hour\n",
    "def time_of_day(hour):\n",
    "    if 6 <= hour < 9:\n",
    "        return 'Morning Rush'\n",
    "    elif 9 <= hour < 17:\n",
    "        return 'Daytime'\n",
    "    elif 17 <= hour < 20:\n",
    "        return 'Evening Rush'\n",
    "    else:\n",
    "        return 'Night'\n",
    "\n",
    "df['time_of_day'] = df['hour'].apply(time_of_day)"
   ]
  },
  {
   "cell_type": "code",
   "execution_count": null,
   "metadata": {},
   "outputs": [],
   "source": [
    "# Step 9: Feature for weekend or weekday\n",
    "df['is_weekend'] = df['dayofweek'].apply(lambda x: 1 if x >= 5 else 0)"
   ]
  },
  {
   "cell_type": "code",
   "execution_count": null,
   "metadata": {},
   "outputs": [],
   "source": [
    "# Step 10: Label Encoding for categorical variables\n",
    "encoder = LabelEncoder()\n",
    "\n",
    "# Encode 'station_id' and 'time_of_day'\n",
    "df['station_id_encoded'] = encoder.fit_transform(df['station_id'])\n",
    "df['time_of_day_encoded'] = encoder.fit_transform(df['time_of_day'])"
   ]
  },
  {
   "cell_type": "code",
   "execution_count": null,
   "metadata": {},
   "outputs": [],
   "source": [
    "# Step 11: Prepare features (X) and target (y)\n",
    "X = df.drop(columns=['timestamp', 'traffic_condition', 'time_of_day'])\n",
    "y = df['traffic_condition']"
   ]
  },
  {
   "cell_type": "code",
   "execution_count": null,
   "metadata": {},
   "outputs": [],
   "source": [
    "# Step 12: Split the dataset into training and test sets\n",
    "X_train, X_test, y_train, y_test = train_test_split(X, y, test_size=0.2, random_state=42)\n",
    "\n",
    "# Check if `y_train` contains any missing or invalid values\n",
    "print(f\"Missing values in y_train: {y_train.isnull().sum()}\")\n",
    "print(f\"Unique values in y_train before encoding: {y_train.unique()}\")\n",
    "\n",
    "# Ensure that the target variable is encoded as numeric\n",
    "y_encoder = LabelEncoder()\n",
    "y_train = y_encoder.fit_transform(y_train)\n",
    "y_test = y_encoder.transform(y_test)"
   ]
  },
  {
   "cell_type": "code",
   "execution_count": null,
   "metadata": {},
   "outputs": [],
   "source": [
    "# Step 13: Standardize the continuous features\n",
    "scaler = StandardScaler()\n",
    "continuous_features = ['traffic_volume', 'traffic_speed', 'traffic_volume_rolling', 'traffic_volume_lag_1', 'traffic_volume_lag_2']\n",
    "X_train[continuous_features] = scaler.fit_transform(X_train[continuous_features])\n",
    "X_test[continuous_features] = scaler.transform(X_test[continuous_features])"
   ]
  },
  {
   "cell_type": "code",
   "execution_count": null,
   "metadata": {},
   "outputs": [],
   "source": [
    "# Step 14: Refit the Logistic Regression model\n",
    "model = LogisticRegression(max_iter=1000)\n",
    "model.fit(X_train, y_train)"
   ]
  },
  {
   "cell_type": "code",
   "execution_count": null,
   "metadata": {},
   "outputs": [],
   "source": [
    "# Step 15: Evaluate the model\n",
    "y_pred = model.predict(X_test)\n",
    "accuracy = accuracy_score(y_test, y_pred)\n",
    "print(f\"Accuracy: {accuracy:.4f}\")"
   ]
  },
  {
   "cell_type": "code",
   "execution_count": null,
   "metadata": {},
   "outputs": [],
   "source": [
    "from sklearn.metrics import classification_report, confusion_matrix\n",
    "\n",
    "print(\"Classification Report:\")\n",
    "print(classification_report(y_test, y_pred))\n",
    "print(\"Confusion Matrix:\")\n",
    "print(confusion_matrix(y_test, y_pred))"
   ]
  }
 ],
 "metadata": {
  "kernelspec": {
   "display_name": "base",
   "language": "python",
   "name": "python3"
  },
  "language_info": {
   "codemirror_mode": {
    "name": "ipython",
    "version": 3
   },
   "file_extension": ".py",
   "mimetype": "text/x-python",
   "name": "python",
   "nbconvert_exporter": "python",
   "pygments_lexer": "ipython3",
   "version": "3.11.8"
  }
 },
 "nbformat": 4,
 "nbformat_minor": 2
}

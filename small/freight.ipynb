{
 "cells": [
  {
   "cell_type": "code",
   "execution_count": null,
   "metadata": {},
   "outputs": [],
   "source": [
    "import pandas as pd\n",
    "\n",
    "file_path = '/Users/keshavsaraogi/Desktop/freight/And_05min_1303_0606_2021.csv'\n",
    "df = pd.read_csv(file_path)\n"
   ]
  },
  {
   "cell_type": "code",
   "execution_count": null,
   "metadata": {},
   "outputs": [],
   "source": [
    "print(df.info())\n",
    "print(df.head())\n",
    "print(df.describe())"
   ]
  },
  {
   "cell_type": "code",
   "execution_count": null,
   "metadata": {},
   "outputs": [],
   "source": [
    "print(df.isnull().sum())"
   ]
  },
  {
   "cell_type": "code",
   "execution_count": null,
   "metadata": {},
   "outputs": [],
   "source": [
    "print(df.columns)"
   ]
  },
  {
   "cell_type": "code",
   "execution_count": null,
   "metadata": {},
   "outputs": [],
   "source": [
    "df.rename(columns={'2021-04-15 07:25:00': 'timestamp'}, inplace=True)\n",
    "df['timestamp'] = pd.to_datetime(df['timestamp'])\n",
    "\n",
    "print(df.head())"
   ]
  },
  {
   "cell_type": "code",
   "execution_count": null,
   "metadata": {},
   "outputs": [],
   "source": [
    "print(df.columns)"
   ]
  },
  {
   "cell_type": "code",
   "execution_count": null,
   "metadata": {},
   "outputs": [],
   "source": [
    "df.rename(\n",
    "    columns={'148.0': 'traffic_volume','1': 'station_id','33.0': 'traffic_speed'}, inplace=True\n",
    ")\n",
    "\n",
    "print(df.columns)"
   ]
  },
  {
   "cell_type": "code",
   "execution_count": null,
   "metadata": {},
   "outputs": [],
   "source": [
    "# Extract temporal features from timestamp\n",
    "df['hour'] = df['timestamp'].dt.hour\n",
    "df['dayofweek'] = df['timestamp'].dt.dayofweek\n",
    "df['month'] = df['timestamp'].dt.month\n",
    "df['year'] = df['timestamp'].dt.year\n",
    "\n",
    "print(df.head())"
   ]
  },
  {
   "cell_type": "code",
   "execution_count": null,
   "metadata": {},
   "outputs": [],
   "source": [
    "# Calculate rolling average of traffic volume over a window\n",
    "df['traffic_volume_rolling'] = df['traffic_volume'].rolling(window=5).mean()\n",
    "\n",
    "# Display the changes\n",
    "print(df[['timestamp', 'traffic_volume', 'traffic_volume_rolling']].head(10))"
   ]
  },
  {
   "cell_type": "code",
   "execution_count": null,
   "metadata": {},
   "outputs": [],
   "source": [
    "# Create a lag feature for traffic volume (e.g., traffic volume at previous timestamp)\n",
    "df['traffic_volume_lag_1'] = df['traffic_volume'].shift(1)\n",
    "df['traffic_volume_lag_2'] = df['traffic_volume'].shift(2)\n",
    "\n",
    "# Drop rows with NaN values due to lag\n",
    "df.dropna(inplace=True)\n",
    "\n",
    "# Display the changes\n",
    "print(df[['timestamp', 'traffic_volume', 'traffic_volume_lag_1', 'traffic_volume_lag_2']].head(10))"
   ]
  },
  {
   "cell_type": "code",
   "execution_count": null,
   "metadata": {},
   "outputs": [],
   "source": [
    "from sklearn.preprocessing import LabelEncoder\n",
    "\n",
    "# Label Encoding for categorical variables (if any)\n",
    "encoder = LabelEncoder()\n",
    "df['station_id_encoded'] = encoder.fit_transform(df['station_id'])\n",
    "\n",
    "# Display the changes\n",
    "print(df[['station_id', 'station_id_encoded']].head())"
   ]
  },
  {
   "cell_type": "code",
   "execution_count": null,
   "metadata": {},
   "outputs": [],
   "source": [
    "# Define traffic condition based on traffic volume\n",
    "df['traffic_condition'] = pd.cut(df['traffic_volume'], bins=[0, 500, 1000, 2000, 3000], labels=['Low', 'Medium', 'High', 'Very High'])\n",
    "\n",
    "# Display the changes\n",
    "print(df[['timestamp', 'traffic_volume', 'traffic_condition']].head())"
   ]
  },
  {
   "cell_type": "code",
   "execution_count": null,
   "metadata": {},
   "outputs": [],
   "source": [
    "def time_of_day(hour):\n",
    "    if 6 <= hour < 9:\n",
    "        return 'Morning Rush'\n",
    "    elif 9 <= hour < 17:\n",
    "        return 'Daytime'\n",
    "    elif 17 <= hour < 20:\n",
    "        return 'Evening Rush'\n",
    "    else:\n",
    "        return 'Night'\n",
    "\n",
    "df['time_of_day'] = df['hour'].apply(time_of_day)\n",
    "\n",
    "# Display the changes\n",
    "print(df[['timestamp', 'hour', 'time_of_day']].head())"
   ]
  },
  {
   "cell_type": "code",
   "execution_count": null,
   "metadata": {},
   "outputs": [],
   "source": [
    "# Mark weekends (1 for weekend, 0 for weekdays)\n",
    "df['is_weekend'] = df['dayofweek'].apply(lambda x: 1 if x >= 5 else 0)\n",
    "\n",
    "# Display the changes\n",
    "print(df[['timestamp', 'dayofweek', 'is_weekend']].head())"
   ]
  },
  {
   "cell_type": "code",
   "execution_count": null,
   "metadata": {},
   "outputs": [],
   "source": [
    "print(df.head)"
   ]
  }
 ],
 "metadata": {
  "kernelspec": {
   "display_name": "base",
   "language": "python",
   "name": "python3"
  },
  "language_info": {
   "codemirror_mode": {
    "name": "ipython",
    "version": 3
   },
   "file_extension": ".py",
   "mimetype": "text/x-python",
   "name": "python",
   "nbconvert_exporter": "python",
   "pygments_lexer": "ipython3",
   "version": "3.11.8"
  }
 },
 "nbformat": 4,
 "nbformat_minor": 2
}
